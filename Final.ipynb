{
 "cells": [
  {
   "cell_type": "code",
   "execution_count": 1,
   "metadata": {},
   "outputs": [],
   "source": [
    "import numpy as np\n",
    "import pandas as pd\n",
    "import numpy as np # linear algebra\n",
    "import pandas as pd # data processing, CSV file I/O (e.g. pd.read_csv)\n",
    "import lightgbm as lgb\n",
    "from sklearn.metrics import roc_auc_score\n",
    "from sklearn.model_selection import StratifiedKFold\n",
    "import json\n",
    "import os"
   ]
  },
  {
   "cell_type": "code",
   "execution_count": 2,
   "metadata": {},
   "outputs": [],
   "source": [
    "#loaing Data\n",
    "train_df = pd.read_csv('train.csv') \n",
    "test_df = pd.read_csv('test.csv')"
   ]
  },
  {
   "cell_type": "code",
   "execution_count": 3,
   "metadata": {},
   "outputs": [],
   "source": [
    "#dictionary which contain responce code for each feature\n",
    "with open('responce_dic.json', 'r') as fp:\n",
    "    responce_dic = json.load(fp)"
   ]
  },
  {
   "cell_type": "code",
   "execution_count": 4,
   "metadata": {},
   "outputs": [],
   "source": [
    "def final_fun_1(X):\n",
    "    test_df_fun = X.copy()\n",
    "    test_df_fun = test_df.iloc[:,1:]\n",
    "    predictions = np.zeros(test_df_fun.shape[0])\n",
    "    for i in test_df_fun.columns:\n",
    "        test_df_fun[i+'_r'] = test_df_fun[i].map(responce_dic[i])\n",
    "    for model in os.listdir('models'):\n",
    "        clf = lgb.Booster(model_file='models/'+model)\n",
    "        predictions += clf.predict(test_df_fun, num_iteration=clf.best_iteration) / 7\n",
    "    \n",
    "    predictions_out= []\n",
    "    for i in predictions:\n",
    "        if i>=0.095:\n",
    "            predictions_out.append(1)\n",
    "        else:\n",
    "            predictions_out.append(0)\n",
    "    return np.array(predictions_out)"
   ]
  },
  {
   "cell_type": "code",
   "execution_count": 5,
   "metadata": {},
   "outputs": [
    {
     "data": {
      "text/plain": [
       "array([0, 1, 0, ..., 0, 0, 0])"
      ]
     },
     "execution_count": 5,
     "metadata": {},
     "output_type": "execute_result"
    }
   ],
   "source": [
    "final_fun_1(test_df.iloc[:1,:])"
   ]
  },
  {
   "cell_type": "code",
   "execution_count": 6,
   "metadata": {},
   "outputs": [],
   "source": [
    "def final_fun_2(X,Y):\n",
    "    \n",
    "    train_fun = X.copy()\n",
    "    train_fun = train_fun.iloc[:,1:]\n",
    "    predictions = np.zeros(train_fun.shape[0])\n",
    "    for i in train_fun.columns:\n",
    "        train_fun[i+'_r'] = train_fun[i].map(responce_dic[i])\n",
    "    for model in os.listdir('models'):\n",
    "        clf = lgb.Booster(model_file='models/'+model)\n",
    "        predictions += clf.predict(train_fun, num_iteration=clf.best_iteration) / 7\n",
    "    \n",
    "    return roc_auc_score(Y, predictions)"
   ]
  },
  {
   "cell_type": "code",
   "execution_count": 65,
   "metadata": {},
   "outputs": [
    {
     "data": {
      "text/plain": [
       "0.9458312999944145"
      ]
     },
     "execution_count": 65,
     "metadata": {},
     "output_type": "execute_result"
    }
   ],
   "source": [
    "from sklearn.metrics import roc_auc_score\n",
    "final_fun_2(train_df.drop('target',axis = 1),train_df['target'])"
   ]
  },
  {
   "cell_type": "code",
   "execution_count": null,
   "metadata": {},
   "outputs": [],
   "source": [
    "#if needed return function 2 with predictions\n",
    "from sklearn.metrics import confusion_matrix\n",
    "from seaborn import heatmap\n",
    "import matplotlib.pyplot as plt\n",
    "heatmap(confusion_matrix(train_df['target'],predictions ),annot=True, fmt=\"d\",xticklabels=[\"Pred:NO\",\"Pred:YES\"],yticklabels=[\"Actual:NO\",\"Actual:YES\"])\n",
    "plt.title(\"Confusion matrix for Train data\")"
   ]
  }
 ],
 "metadata": {
  "kernelspec": {
   "display_name": "Python 3",
   "language": "python",
   "name": "python3"
  },
  "language_info": {
   "codemirror_mode": {
    "name": "ipython",
    "version": 3
   },
   "file_extension": ".py",
   "mimetype": "text/x-python",
   "name": "python",
   "nbconvert_exporter": "python",
   "pygments_lexer": "ipython3",
   "version": "3.7.3"
  }
 },
 "nbformat": 4,
 "nbformat_minor": 2
}
