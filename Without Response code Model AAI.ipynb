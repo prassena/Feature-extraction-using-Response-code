{
 "cells": [
  {
   "cell_type": "markdown",
   "metadata": {},
   "source": [
    "<h1>4. Machine Learning Model </h1>"
   ]
  },
  {
   "cell_type": "code",
   "execution_count": 1,
   "metadata": {},
   "outputs": [],
   "source": [
    "#import libraries\n",
    "import numpy as np # linear algebra\n",
    "import pandas as pd # data processing, CSV file I/O (e.g. pd.read_csv)\n",
    "import lightgbm as lgb\n",
    "from sklearn.metrics import roc_auc_score\n",
    "from sklearn.model_selection import StratifiedKFold\n",
    "from tqdm import tqdm_notebook as tqdm\n",
    "from sklearn import metrics\n",
    "import gc\n",
    "import warnings\n",
    "import os\n",
    "pd.set_option('display.max_columns', 200)"
   ]
  },
  {
   "cell_type": "markdown",
   "metadata": {},
   "source": [
    "<h2> 4.1 Reading data from file and storing to variable </h2>"
   ]
  },
  {
   "cell_type": "code",
   "execution_count": 2,
   "metadata": {},
   "outputs": [],
   "source": [
    "#loaing Data\n",
    "train_df = pd.read_csv('train.csv') \n",
    "test_df = pd.read_csv('test.csv')\n",
    "\n",
    "#Features for prediction(Indipendent variable)\n",
    "features = [c for c in train_df.columns if c not in ['ID_code', 'target']] \n",
    "target = train_df['target']  #Labels"
   ]
  },
  {
   "cell_type": "markdown",
   "metadata": {},
   "source": [
    "<h2> 5. LightGBM optimization</h2>"
   ]
  },
  {
   "cell_type": "code",
   "execution_count": 5,
   "metadata": {},
   "outputs": [],
   "source": [
    "#saving all feature name to a variable as list\n",
    "predictors = train_df.columns.values.tolist()[2:]"
   ]
  },
  {
   "cell_type": "code",
   "execution_count": 7,
   "metadata": {},
   "outputs": [],
   "source": [
    "#StratifiedKFold with 2 fold .using for optimization\n",
    "bayesian_tr_index, bayesian_val_index  = list(StratifiedKFold(n_splits=2, shuffle=True, random_state=1).split(train_df, target))[0]"
   ]
  },
  {
   "cell_type": "markdown",
   "metadata": {},
   "source": [
    "<h2> 5.1 Setting paramaters to optimize </h2>"
   ]
  },
  {
   "cell_type": "code",
   "execution_count": 15,
   "metadata": {},
   "outputs": [],
   "source": [
    "def LGB_bayesian(num_leaves,  min_data_in_leaf,  max_bin,  learning_rate,  lambda_l1, lambda_l2, min_gain_to_split, max_depth):\n",
    "    \n",
    "    num_leaves  =int(num_leaves)\n",
    "    max_bin = int(max_bin)\n",
    "    max_depth = int(max_depth)\n",
    "    min_data_in_leaf= int(min_data_in_leaf)\n",
    "    \n",
    "    param = {'num_leaves': num_leaves,'max_bin': max_bin,'min_data_in_leaf': min_data_in_leaf,'learning_rate': learning_rate,\n",
    "        'bagging_fraction': 1.0,'bagging_freq': 5, 'feature_fraction': 1, 'lambda_l1': lambda_l1, 'lambda_l2': lambda_l2,\n",
    "        'min_gain_to_split': min_gain_to_split,'max_depth': max_depth,'save_binary': True, 'seed': 1337, 'feature_fraction_seed': 1337,\n",
    "        'bagging_seed': 1337, 'drop_seed': 1337, 'objective': 'binary','boosting_type': 'gbdt','verbose': 1,\n",
    "        'metric': 'auc','is_unbalance': True, 'boost_from_average': False,}\n",
    "    \n",
    "    # converting train data to lightgbm.basic.Dataset so that it can load faster\n",
    "    xg_train = lgb.Dataset(train_df.iloc[bayesian_tr_index][predictors].values,\n",
    "                           label=target.iloc[bayesian_tr_index].values,\n",
    "                           feature_name=predictors,\n",
    "                           free_raw_data = False\n",
    "                           )\n",
    "    \n",
    "    # converting validation data to lightgbm.basic.Dataset so that it can load faster\n",
    "    xg_valid = lgb.Dataset(train_df.iloc[bayesian_val_index][predictors].values,\n",
    "                           label=target.iloc[bayesian_val_index].values,\n",
    "                           feature_name=predictors,\n",
    "                           free_raw_data = False\n",
    "                           )   \n",
    "    num_round = 5000 #iteration to happen\n",
    "    #training lgb for getting paramaters\n",
    "    clf = lgb.train(param, xg_train, num_round, valid_sets = [xg_valid], verbose_eval=250, early_stopping_rounds = 50)\n",
    "    \n",
    "    predictions = clf.predict(train_df.iloc[bayesian_val_index][predictors].values, num_iteration=clf.best_iteration)   \n",
    "    \n",
    "    #AUC is used metric we are trying to increase\n",
    "    score = metrics.roc_auc_score(target.iloc[bayesian_val_index].values, predictions)\n",
    "    \n",
    "    return score"
   ]
  },
  {
   "cell_type": "markdown",
   "metadata": {},
   "source": [
    "<h2> 5.2 Setting Range values for each paramaters to optimize</h2>"
   ]
  },
  {
   "cell_type": "code",
   "execution_count": 16,
   "metadata": {},
   "outputs": [],
   "source": [
    "# Bounded region of parameter space,values between this range is sent to paramater for optimization\n",
    "bounds_LGB = { 'num_leaves': (5, 20), 'min_data_in_leaf': (5, 20), 'max_bin':(30,60),\n",
    "    'learning_rate': (0.01, 0.3), 'lambda_l1': (0, 3.0), 'lambda_l2': (0, 3.0), \n",
    "    'min_gain_to_split': (0, 1.0), 'max_depth':(3,15),\n",
    "    }"
   ]
  },
  {
   "cell_type": "markdown",
   "metadata": {},
   "source": [
    "<h2> 5.3 Passing the boundry values to the model</h2>"
   ]
  },
  {
   "cell_type": "code",
   "execution_count": 17,
   "metadata": {},
   "outputs": [
    {
     "name": "stdout",
     "output_type": "stream",
     "text": [
      "['lambda_l1', 'lambda_l2', 'learning_rate', 'max_bin', 'max_depth', 'min_data_in_leaf', 'min_gain_to_split', 'num_leaves']\n"
     ]
    }
   ],
   "source": [
    "#put all of Bounded parameter in BayesianOptimization object\n",
    "from bayes_opt import BayesianOptimization\n",
    "LGB_BO = BayesianOptimization(LGB_bayesian, bounds_LGB, random_state=13)\n",
    "\n",
    "#print the paramaters we set for optimization\n",
    "print(LGB_BO.space.keys)\n",
    "\n",
    "init_points = 10 #How many steps of random exploration you want to perform\n",
    "n_iter = 8 # How many steps of bayesian optimization you want to perform"
   ]
  },
  {
   "cell_type": "code",
   "execution_count": 18,
   "metadata": {},
   "outputs": [
    {
     "name": "stdout",
     "output_type": "stream",
     "text": [
      "|   iter    |  target   | lambda_l1 | lambda_l2 | learni... |  max_bin  | max_depth | min_da... | min_ga... | num_le... |\n",
      "-------------------------------------------------------------------------------------------------------------------------\n",
      "Training until validation scores don't improve for 50 rounds\n",
      "Early stopping, best iteration is:\n",
      "[171]\tvalid_0's auc: 0.877161\n",
      "|  1        |  0.8772   |  2.333    |  0.7126   |  0.249    |  58.97    |  14.67    |  11.8     |  0.609    |  16.63    |\n",
      "Training until validation scores don't improve for 50 rounds\n",
      "[250]\tvalid_0's auc: 0.798269\n",
      "[500]\tvalid_0's auc: 0.833448\n",
      "[750]\tvalid_0's auc: 0.849342\n",
      "[1000]\tvalid_0's auc: 0.859226\n",
      "[1250]\tvalid_0's auc: 0.865696\n",
      "[1500]\tvalid_0's auc: 0.870452\n",
      "[1750]\tvalid_0's auc: 0.874011\n",
      "[2000]\tvalid_0's auc: 0.877098\n",
      "[2250]\tvalid_0's auc: 0.87936\n",
      "[2500]\tvalid_0's auc: 0.881142\n",
      "[2750]\tvalid_0's auc: 0.88267\n",
      "[3000]\tvalid_0's auc: 0.88388\n",
      "[3250]\tvalid_0's auc: 0.884884\n",
      "[3500]\tvalid_0's auc: 0.885694\n",
      "[3750]\tvalid_0's auc: 0.886292\n",
      "[4000]\tvalid_0's auc: 0.886864\n",
      "[4250]\tvalid_0's auc: 0.887166\n",
      "[4500]\tvalid_0's auc: 0.887498\n",
      "[4750]\tvalid_0's auc: 0.887812\n",
      "[5000]\tvalid_0's auc: 0.887985\n",
      "Did not meet early stopping. Best iteration is:\n",
      "[4999]\tvalid_0's auc: 0.887987\n",
      "|  2        |  0.888    |  1.925    |  2.166    |  0.02016  |  38.95    |  3.702    |  17.86    |  0.3729   |  15.2     |\n",
      "Training until validation scores don't improve for 50 rounds\n",
      "[250]\tvalid_0's auc: 0.81765\n",
      "[500]\tvalid_0's auc: 0.848496\n",
      "[750]\tvalid_0's auc: 0.862303\n",
      "[1000]\tvalid_0's auc: 0.870893\n",
      "[1250]\tvalid_0's auc: 0.876502\n",
      "[1500]\tvalid_0's auc: 0.880561\n",
      "[1750]\tvalid_0's auc: 0.883494\n",
      "[2000]\tvalid_0's auc: 0.885632\n",
      "[2250]\tvalid_0's auc: 0.887135\n",
      "[2500]\tvalid_0's auc: 0.888157\n",
      "[2750]\tvalid_0's auc: 0.88877\n",
      "[3000]\tvalid_0's auc: 0.889032\n",
      "Early stopping, best iteration is:\n",
      "[3191]\tvalid_0's auc: 0.889102\n",
      "|  3        |  0.8891   |  0.7688   |  1.043    |  0.01273  |  40.75    |  14.39    |  8.268    |  0.3194   |  18.77    |\n",
      "Training until validation scores don't improve for 50 rounds\n",
      "[250]\tvalid_0's auc: 0.877041\n",
      "[500]\tvalid_0's auc: 0.885616\n",
      "Early stopping, best iteration is:\n",
      "[542]\tvalid_0's auc: 0.886069\n",
      "|  4        |  0.8861   |  0.09571  |  0.1953   |  0.1927   |  56.21    |  3.105    |  16.2     |  0.8128   |  6.136    |\n",
      "Training until validation scores don't improve for 50 rounds\n",
      "[250]\tvalid_0's auc: 0.872743\n",
      "[500]\tvalid_0's auc: 0.883551\n",
      "[750]\tvalid_0's auc: 0.885402\n",
      "Early stopping, best iteration is:\n",
      "[762]\tvalid_0's auc: 0.88549\n",
      "|  5        |  0.8855   |  1.969    |  1.528    |  0.1492   |  58.67    |  3.0      |  8.705    |  0.7122   |  9.869    |\n",
      "Training until validation scores don't improve for 50 rounds\n",
      "Early stopping, best iteration is:\n",
      "[158]\tvalid_0's auc: 0.87557\n",
      "|  6        |  0.8756   |  0.831    |  2.086    |  0.2764   |  37.33    |  8.497    |  8.795    |  0.3793   |  14.07    |\n",
      "Training until validation scores don't improve for 50 rounds\n",
      "[250]\tvalid_0's auc: 0.882221\n",
      "Early stopping, best iteration is:\n",
      "[427]\tvalid_0's auc: 0.885899\n",
      "|  7        |  0.8859   |  2.317    |  0.2038   |  0.209    |  46.45    |  4.656    |  6.481    |  0.2456   |  7.277    |\n",
      "Training until validation scores don't improve for 50 rounds\n",
      "[250]\tvalid_0's auc: 0.873107\n",
      "[500]\tvalid_0's auc: 0.88603\n",
      "[750]\tvalid_0's auc: 0.887676\n",
      "Early stopping, best iteration is:\n",
      "[717]\tvalid_0's auc: 0.887769\n",
      "|  8        |  0.8878   |  2.778    |  2.04     |  0.07892  |  47.07    |  9.68     |  6.091    |  0.8397   |  11.08    |\n",
      "Training until validation scores don't improve for 50 rounds\n",
      "[250]\tvalid_0's auc: 0.878322\n",
      "[500]\tvalid_0's auc: 0.886714\n",
      "Early stopping, best iteration is:\n",
      "[495]\tvalid_0's auc: 0.886767\n",
      "|  9        |  0.8868   |  0.4346   |  0.5728   |  0.1523   |  51.36    |  14.82    |  18.12    |  0.499    |  6.602    |\n",
      "Training until validation scores don't improve for 50 rounds\n",
      "[250]\tvalid_0's auc: 0.864029\n",
      "[500]\tvalid_0's auc: 0.879458\n",
      "[750]\tvalid_0's auc: 0.883874\n",
      "[1000]\tvalid_0's auc: 0.885418\n",
      "Early stopping, best iteration is:\n",
      "[1053]\tvalid_0's auc: 0.885567\n",
      "|  10       |  0.8856   |  2.74     |  1.095    |  0.07571  |  56.17    |  4.636    |  8.546    |  0.5954   |  13.46    |\n",
      "Training until validation scores don't improve for 50 rounds\n",
      "Early stopping, best iteration is:\n",
      "[173]\tvalid_0's auc: 0.87566\n",
      "|  11       |  0.8757   |  2.661    |  0.6744   |  0.2406   |  30.21    |  14.44    |  18.8     |  0.6249   |  19.81    |\n",
      "Training until validation scores don't improve for 50 rounds\n",
      "[250]\tvalid_0's auc: 0.806934\n",
      "[500]\tvalid_0's auc: 0.83945\n",
      "[750]\tvalid_0's auc: 0.855226\n",
      "[1000]\tvalid_0's auc: 0.864571\n",
      "[1250]\tvalid_0's auc: 0.871099\n",
      "[1500]\tvalid_0's auc: 0.87587\n",
      "[1750]\tvalid_0's auc: 0.879367\n",
      "[2000]\tvalid_0's auc: 0.882093\n",
      "[2250]\tvalid_0's auc: 0.883994\n",
      "[2500]\tvalid_0's auc: 0.885529\n",
      "[2750]\tvalid_0's auc: 0.886772\n",
      "[3000]\tvalid_0's auc: 0.887772\n",
      "[3250]\tvalid_0's auc: 0.888488\n",
      "[3500]\tvalid_0's auc: 0.889028\n",
      "[3750]\tvalid_0's auc: 0.889293\n",
      "[4000]\tvalid_0's auc: 0.88942\n",
      "Early stopping, best iteration is:\n",
      "[4103]\tvalid_0's auc: 0.889481\n",
      "|  12       |  0.8895   |  3.0      |  3.0      |  0.01     |  44.7     |  15.0     |  20.0     |  5.184e-0 |  20.0     |\n",
      "Training until validation scores don't improve for 50 rounds\n",
      "[250]\tvalid_0's auc: 0.869925\n",
      "[500]\tvalid_0's auc: 0.884455\n",
      "[750]\tvalid_0's auc: 0.888108\n",
      "Early stopping, best iteration is:\n",
      "[916]\tvalid_0's auc: 0.888718\n",
      "|  13       |  0.8887   |  0.9449   |  1.334    |  0.1147   |  57.78    |  14.04    |  5.131    |  0.09382  |  5.228    |\n",
      "Training until validation scores don't improve for 50 rounds\n",
      "[250]\tvalid_0's auc: 0.864885\n",
      "[500]\tvalid_0's auc: 0.88051\n",
      "[750]\tvalid_0's auc: 0.885386\n",
      "[1000]\tvalid_0's auc: 0.886923\n",
      "Early stopping, best iteration is:\n",
      "[1179]\tvalid_0's auc: 0.887238\n",
      "|  14       |  0.8872   |  0.4702   |  0.0548   |  0.1086   |  48.64    |  3.03     |  18.5     |  0.8894   |  19.55    |\n",
      "Training until validation scores don't improve for 50 rounds\n",
      "[250]\tvalid_0's auc: 0.875851\n",
      "[500]\tvalid_0's auc: 0.887245\n",
      "Early stopping, best iteration is:\n",
      "[654]\tvalid_0's auc: 0.88855\n",
      "|  15       |  0.8886   |  2.985    |  1.992    |  0.1504   |  41.67    |  4.217    |  19.82    |  0.09015  |  5.09     |\n",
      "Training until validation scores don't improve for 50 rounds\n",
      "[250]\tvalid_0's auc: 0.867113\n",
      "[500]\tvalid_0's auc: 0.882175\n",
      "[750]\tvalid_0's auc: 0.886374\n",
      "[1000]\tvalid_0's auc: 0.887535\n",
      "Early stopping, best iteration is:\n",
      "[1076]\tvalid_0's auc: 0.887825\n",
      "|  16       |  0.8878   |  2.674    |  0.9172   |  0.114    |  43.1     |  3.126    |  5.119    |  0.1966   |  19.92    |\n",
      "Training until validation scores don't improve for 50 rounds\n",
      "[250]\tvalid_0's auc: 0.880776\n",
      "Early stopping, best iteration is:\n",
      "[415]\tvalid_0's auc: 0.88594\n",
      "|  17       |  0.8859   |  0.09585  |  2.47     |  0.0902   |  50.92    |  14.7     |  5.496    |  0.8653   |  19.12    |\n",
      "Training until validation scores don't improve for 50 rounds\n",
      "[250]\tvalid_0's auc: 0.875856\n",
      "[500]\tvalid_0's auc: 0.886337\n",
      "Early stopping, best iteration is:\n",
      "[676]\tvalid_0's auc: 0.887236\n",
      "|  18       |  0.8872   |  2.862    |  2.805    |  0.1746   |  55.36    |  3.936    |  19.94    |  0.145    |  5.651    |\n",
      "=========================================================================================================================\n"
     ]
    }
   ],
   "source": [
    "#this is where the optimization starts. .maximize function starts the optimization process\n",
    "with warnings.catch_warnings():\n",
    "    warnings.filterwarnings('ignore')\n",
    "    LGB_BO.maximize(init_points=init_points, n_iter=n_iter, acq='ucb', xi=0.0, alpha=1e-6)"
   ]
  },
  {
   "cell_type": "code",
   "execution_count": 19,
   "metadata": {},
   "outputs": [
    {
     "name": "stdout",
     "output_type": "stream",
     "text": [
      "Iteration 0: \n",
      "\t{'target': 0.8771608428435963, 'params': {'lambda_l1': 2.3331072317214607, 'lambda_l2': 0.7126236601047369, 'learning_rate': 0.24904077447179687, 'max_bin': 58.97247594128999, 'max_depth': 14.67121336685872, 'min_data_in_leaf': 11.801738711259683, 'min_gain_to_split': 0.6090424627612779, 'num_leaves': 16.6328977190727}}\n",
      "Iteration 1: \n",
      "\t{'target': 0.8879871548999458, 'params': {'lambda_l1': 1.9248400342772074, 'lambda_l2': 2.1660546885508416, 'learning_rate': 0.02016059198941682, 'max_bin': 38.95348412667538, 'max_depth': 3.702149902584897, 'min_data_in_leaf': 17.855914138807982, 'min_gain_to_split': 0.3728540278748075, 'num_leaves': 15.197719273671455}}\n",
      "Iteration 2: \n",
      "\t{'target': 0.8891023129642595, 'params': {'lambda_l1': 0.7688398479798904, 'lambda_l2': 1.0427436454574759, 'learning_rate': 0.01272970332348113, 'max_bin': 40.7500134811491, 'max_depth': 14.389130180138524, 'min_data_in_leaf': 8.268485136975334, 'min_gain_to_split': 0.3193913663803646, 'num_leaves': 18.76658579000881}}\n",
      "Iteration 3: \n",
      "\t{'target': 0.8860692621606983, 'params': {'lambda_l1': 0.09571099931968419, 'lambda_l2': 0.19525361112754347, 'learning_rate': 0.19265040974126865, 'max_bin': 56.21440329838616, 'max_depth': 3.1045887876454183, 'min_data_in_leaf': 16.198658554909063, 'min_gain_to_split': 0.8128411710026234, 'num_leaves': 6.135761692584001}}\n",
      "Iteration 4: \n",
      "\t{'target': 0.8854897015894919, 'params': {'lambda_l1': 1.9693660037908733, 'lambda_l2': 1.5277866002505545, 'learning_rate': 0.1491661835339511, 'max_bin': 58.66722434793199, 'max_depth': 3.000144402833821, 'min_data_in_leaf': 8.704680514878746, 'min_gain_to_split': 0.7122326779115835, 'num_leaves': 9.868730746800697}}\n",
      "Iteration 5: \n",
      "\t{'target': 0.8755695484583657, 'params': {'lambda_l1': 0.8309890691514284, 'lambda_l2': 2.0863363576604237, 'learning_rate': 0.2763800069623251, 'max_bin': 37.33427106593971, 'max_depth': 8.497029807321164, 'min_data_in_leaf': 8.794890242322596, 'min_gain_to_split': 0.37933329148306616, 'num_leaves': 14.068082429475666}}\n",
      "Iteration 6: \n",
      "\t{'target': 0.8858992544075912, 'params': {'lambda_l1': 2.317136279041674, 'lambda_l2': 0.2037524903832435, 'learning_rate': 0.2089646729643209, 'max_bin': 46.447802921874754, 'max_depth': 4.655832633099087, 'min_data_in_leaf': 6.481298288073776, 'min_gain_to_split': 0.24555910532465564, 'num_leaves': 7.276799938767089}}\n",
      "Iteration 7: \n",
      "\t{'target': 0.8877686593200185, 'params': {'lambda_l1': 2.7779834384706534, 'lambda_l2': 2.040315046813926, 'learning_rate': 0.07892108734510815, 'max_bin': 47.06655757669681, 'max_depth': 9.679584617212832, 'min_data_in_leaf': 6.091058163265217, 'min_gain_to_split': 0.8397085104160709, 'num_leaves': 11.07979239047197}}\n",
      "Iteration 8: \n",
      "\t{'target': 0.8867669009727954, 'params': {'lambda_l1': 0.43461296713897535, 'lambda_l2': 0.572760175999781, 'learning_rate': 0.15228563974889664, 'max_bin': 51.3607312274926, 'max_depth': 14.819261492412096, 'min_data_in_leaf': 18.121797526025667, 'min_gain_to_split': 0.499041683900894, 'num_leaves': 6.601699909905633}}\n",
      "Iteration 9: \n",
      "\t{'target': 0.8855665692155641, 'params': {'lambda_l1': 2.7396384209689293, 'lambda_l2': 1.0947478826588548, 'learning_rate': 0.07571048430083423, 'max_bin': 56.172955870362856, 'max_depth': 4.636300221110855, 'min_data_in_leaf': 8.545702402292303, 'min_gain_to_split': 0.5953992453523792, 'num_leaves': 13.458839136180726}}\n",
      "Iteration 10: \n",
      "\t{'target': 0.8756601230860646, 'params': {'lambda_l1': 2.6606964382001737, 'lambda_l2': 0.6744042513084523, 'learning_rate': 0.24062184074990003, 'max_bin': 30.20612261229163, 'max_depth': 14.442714349163666, 'min_data_in_leaf': 18.798304718979182, 'min_gain_to_split': 0.6248650206892576, 'num_leaves': 19.81466452051266}}\n",
      "Iteration 11: \n",
      "\t{'target': 0.8894812512661345, 'params': {'lambda_l1': 3.0, 'lambda_l2': 3.0, 'learning_rate': 0.01, 'max_bin': 44.69592944946842, 'max_depth': 15.0, 'min_data_in_leaf': 19.99999993628565, 'min_gain_to_split': 5.183696042004484e-08, 'num_leaves': 20.0}}\n",
      "Iteration 12: \n",
      "\t{'target': 0.8887177591062699, 'params': {'lambda_l1': 0.944899784691762, 'lambda_l2': 1.3336861547186554, 'learning_rate': 0.11474844243517662, 'max_bin': 57.77788013867624, 'max_depth': 14.042406069621569, 'min_data_in_leaf': 5.130574384958039, 'min_gain_to_split': 0.09381973413810707, 'num_leaves': 5.22760555652742}}\n",
      "Iteration 13: \n",
      "\t{'target': 0.8872383211558647, 'params': {'lambda_l1': 0.4702297260403071, 'lambda_l2': 0.054800575476041447, 'learning_rate': 0.108551997085476, 'max_bin': 48.63549790074498, 'max_depth': 3.0296722313320923, 'min_data_in_leaf': 18.50182554719224, 'min_gain_to_split': 0.8894352196706722, 'num_leaves': 19.54712695529488}}\n",
      "Iteration 14: \n",
      "\t{'target': 0.8885503190650899, 'params': {'lambda_l1': 2.985230633966889, 'lambda_l2': 1.991573686628613, 'learning_rate': 0.15038326440931676, 'max_bin': 41.66669713240252, 'max_depth': 4.217309495088467, 'min_data_in_leaf': 19.817852576911957, 'min_gain_to_split': 0.09014626273858606, 'num_leaves': 5.089789200810239}}\n",
      "Iteration 15: \n",
      "\t{'target': 0.8878254886151409, 'params': {'lambda_l1': 2.6735714119239726, 'lambda_l2': 0.9172022461590237, 'learning_rate': 0.11403161088363072, 'max_bin': 43.10341420304162, 'max_depth': 3.1260349045839066, 'min_data_in_leaf': 5.118936948320801, 'min_gain_to_split': 0.19660016696483473, 'num_leaves': 19.920542293063196}}\n",
      "Iteration 16: \n",
      "\t{'target': 0.8859404086013376, 'params': {'lambda_l1': 0.09584546557172091, 'lambda_l2': 2.4699799790959966, 'learning_rate': 0.09019859904461418, 'max_bin': 50.921931877537475, 'max_depth': 14.699391055733015, 'min_data_in_leaf': 5.496163743485109, 'min_gain_to_split': 0.8653487655201426, 'num_leaves': 19.124987909339552}}\n",
      "Iteration 17: \n",
      "\t{'target': 0.8872364891304654, 'params': {'lambda_l1': 2.862315559645779, 'lambda_l2': 2.804511044535657, 'learning_rate': 0.17463163450082184, 'max_bin': 55.35638410799259, 'max_depth': 3.936231898512099, 'min_data_in_leaf': 19.937126306750642, 'min_gain_to_split': 0.14495198297253453, 'num_leaves': 5.6505339007357405}}\n"
     ]
    }
   ],
   "source": [
    "#display all Iterations auc score with the paramates which with which the auc is achived\n",
    "for i, res in enumerate(LGB_BO.res):\n",
    "    print(\"Iteration {}: \\n\\t{}\".format(i, res))"
   ]
  },
  {
   "cell_type": "code",
   "execution_count": 20,
   "metadata": {},
   "outputs": [
    {
     "name": "stdout",
     "output_type": "stream",
     "text": [
      "Max AUC we got 0.8894812512661345\n",
      "Paramaters which gave maximum AUC {'lambda_l1': 3.0, 'lambda_l2': 3.0, 'learning_rate': 0.01, 'max_bin': 44.69592944946842, 'max_depth': 15.0, 'min_data_in_leaf': 19.99999993628565, 'min_gain_to_split': 5.183696042004484e-08, 'num_leaves': 20.0}\n"
     ]
    }
   ],
   "source": [
    "print(\"Max AUC we got\",LGB_BO.max['target'])\n",
    "print(\"Paramaters which gave maximum AUC\",LGB_BO.max['params'])"
   ]
  },
  {
   "cell_type": "markdown",
   "metadata": {},
   "source": [
    "<h2> 6. Training the model with best Paramaters which gave best AUC</h2>"
   ]
  },
  {
   "cell_type": "code",
   "execution_count": 21,
   "metadata": {},
   "outputs": [],
   "source": [
    "#Setting best paramaters\n",
    "param={'max_bin' : int(np.round(LGB_BO.max['params']['max_bin'])),\n",
    "        'lambda_l1': LGB_BO.max['params']['lambda_l1'], \n",
    "        'lambda_l2': LGB_BO.max['params']['lambda_l2'], \n",
    "        'learning_rate': LGB_BO.max['params']['learning_rate'], \n",
    "        'max_depth': int(np.round(LGB_BO.max['params']['max_depth'])), \n",
    "        'min_data_in_leaf': int(np.round(LGB_BO.max['params']['min_data_in_leaf'])), \n",
    "        'min_gain_to_split': LGB_BO.max['params']['min_gain_to_split'], \n",
    "        'num_leaves': int(np.round(LGB_BO.max['params']['num_leaves'])),\n",
    "        'verbosity': 1,\n",
    "        'objective': 'binary',}"
   ]
  },
  {
   "cell_type": "code",
   "execution_count": 23,
   "metadata": {},
   "outputs": [
    {
     "name": "stderr",
     "output_type": "stream",
     "text": [
      "C:\\Users\\prassena.k\\AppData\\Local\\Continuum\\anaconda3\\lib\\site-packages\\sklearn\\model_selection\\_split.py:296: FutureWarning: Setting a random_state has no effect since shuffle is False. This will raise an error in 0.24. You should leave random_state to its default (None), or set shuffle=True.\n",
      "  FutureWarning\n"
     ]
    },
    {
     "name": "stdout",
     "output_type": "stream",
     "text": [
      "Fold 0\n",
      "Training until validation scores don't improve for 50 rounds\n",
      "[1000]\ttraining's binary_logloss: 0.22694\tvalid_1's binary_logloss: 0.247468\n",
      "[2000]\ttraining's binary_logloss: 0.193758\tvalid_1's binary_logloss: 0.226734\n",
      "[3000]\ttraining's binary_logloss: 0.17406\tvalid_1's binary_logloss: 0.216634\n",
      "[4000]\ttraining's binary_logloss: 0.160424\tvalid_1's binary_logloss: 0.211516\n",
      "[5000]\ttraining's binary_logloss: 0.150655\tvalid_1's binary_logloss: 0.209743\n",
      "[6000]\ttraining's binary_logloss: 0.142831\tvalid_1's binary_logloss: 0.209213\n",
      "Early stopping, best iteration is:\n",
      "[6358]\ttraining's binary_logloss: 0.140262\tvalid_1's binary_logloss: 0.209121\n",
      "Fold 1\n",
      "Training until validation scores don't improve for 50 rounds\n",
      "[1000]\ttraining's binary_logloss: 0.226988\tvalid_1's binary_logloss: 0.24741\n",
      "[2000]\ttraining's binary_logloss: 0.193688\tvalid_1's binary_logloss: 0.22702\n",
      "[3000]\ttraining's binary_logloss: 0.17389\tvalid_1's binary_logloss: 0.217423\n",
      "[4000]\ttraining's binary_logloss: 0.16011\tvalid_1's binary_logloss: 0.212611\n",
      "[5000]\ttraining's binary_logloss: 0.150184\tvalid_1's binary_logloss: 0.21078\n",
      "[6000]\ttraining's binary_logloss: 0.142395\tvalid_1's binary_logloss: 0.210411\n",
      "Early stopping, best iteration is:\n",
      "[6497]\ttraining's binary_logloss: 0.138859\tvalid_1's binary_logloss: 0.210278\n",
      "Fold 2\n",
      "Training until validation scores don't improve for 50 rounds\n",
      "[1000]\ttraining's binary_logloss: 0.227791\tvalid_1's binary_logloss: 0.246196\n",
      "[2000]\ttraining's binary_logloss: 0.194754\tvalid_1's binary_logloss: 0.224674\n",
      "[3000]\ttraining's binary_logloss: 0.175068\tvalid_1's binary_logloss: 0.214385\n",
      "[4000]\ttraining's binary_logloss: 0.161397\tvalid_1's binary_logloss: 0.208972\n",
      "[5000]\ttraining's binary_logloss: 0.151439\tvalid_1's binary_logloss: 0.20673\n",
      "[6000]\ttraining's binary_logloss: 0.143595\tvalid_1's binary_logloss: 0.206141\n",
      "[7000]\ttraining's binary_logloss: 0.13661\tvalid_1's binary_logloss: 0.20583\n",
      "Early stopping, best iteration is:\n",
      "[7112]\ttraining's binary_logloss: 0.135873\tvalid_1's binary_logloss: 0.205795\n",
      "Fold 3\n",
      "Training until validation scores don't improve for 50 rounds\n",
      "[1000]\ttraining's binary_logloss: 0.227007\tvalid_1's binary_logloss: 0.246576\n",
      "[2000]\ttraining's binary_logloss: 0.193887\tvalid_1's binary_logloss: 0.22579\n",
      "[3000]\ttraining's binary_logloss: 0.174265\tvalid_1's binary_logloss: 0.215867\n",
      "[4000]\ttraining's binary_logloss: 0.160717\tvalid_1's binary_logloss: 0.210788\n",
      "[5000]\ttraining's binary_logloss: 0.150938\tvalid_1's binary_logloss: 0.208849\n",
      "[6000]\ttraining's binary_logloss: 0.143204\tvalid_1's binary_logloss: 0.208349\n",
      "Early stopping, best iteration is:\n",
      "[6234]\ttraining's binary_logloss: 0.141512\tvalid_1's binary_logloss: 0.208294\n",
      "Fold 4\n",
      "Training until validation scores don't improve for 50 rounds\n",
      "[1000]\ttraining's binary_logloss: 0.227958\tvalid_1's binary_logloss: 0.244346\n",
      "[2000]\ttraining's binary_logloss: 0.194844\tvalid_1's binary_logloss: 0.222999\n",
      "[3000]\ttraining's binary_logloss: 0.175205\tvalid_1's binary_logloss: 0.212885\n",
      "[4000]\ttraining's binary_logloss: 0.161506\tvalid_1's binary_logloss: 0.207527\n",
      "[5000]\ttraining's binary_logloss: 0.151607\tvalid_1's binary_logloss: 0.205571\n",
      "[6000]\ttraining's binary_logloss: 0.143795\tvalid_1's binary_logloss: 0.205089\n",
      "Early stopping, best iteration is:\n",
      "[6299]\ttraining's binary_logloss: 0.141626\tvalid_1's binary_logloss: 0.20497\n",
      "CV score: 0.89437 \n"
     ]
    }
   ],
   "source": [
    "#training and predicting lgb model with best param which we got through bayes optimization\n",
    "folds = StratifiedKFold(n_splits=5, shuffle=False, random_state=99999)\n",
    "oof = np.zeros(len(train_df))\n",
    "predictions = np.zeros(len(test_df))\n",
    "for fold_, (trn_idx, val_idx) in enumerate(folds.split(train_df.values, target.values)):\n",
    "    print(\"Fold {}\".format(fold_))\n",
    "    \n",
    "    #converting train data to lightgbm.basic.Dataset so that it can load faster\n",
    "    trn_data = lgb.Dataset(train_df.iloc[trn_idx][predictors], label=target.iloc[trn_idx])\n",
    "\n",
    "    #converting validation data to lightgbm.basic.Dataset so that it can load faster\n",
    "    val_data = lgb.Dataset(train_df.iloc[val_idx][predictors], label=target.iloc[val_idx])\n",
    "\n",
    "    clf = lgb.train(param, trn_data, 12000, valid_sets = [trn_data, val_data], verbose_eval=1000, early_stopping_rounds = 50)\n",
    "    oof[val_idx] = clf.predict(train_df.iloc[val_idx][predictors], num_iteration=clf.best_iteration)\n",
    "    predictions += clf.predict(test_df[predictors], num_iteration=clf.best_iteration) / folds.n_splits\n",
    "    \n",
    "    \n",
    "print(\"CV score: {:<8.5f}\".format(roc_auc_score(target, oof)))\n",
    "sub = pd.DataFrame({\"ID_code\": test_df.ID_code.values})\n",
    "sub[\"target\"] = predictions\n",
    "sub.to_csv(\"without_responce_code_aai.csv\", index=False)"
   ]
  },
  {
   "cell_type": "markdown",
   "metadata": {},
   "source": [
    "<h2> 7. Finding Threshold </h2>"
   ]
  },
  {
   "cell_type": "raw",
   "metadata": {},
   "source": [
    "The LGB model will give probablity as output .we need to find the thresholds value so that wer can classify points based the optimal value"
   ]
  },
  {
   "cell_type": "code",
   "execution_count": 24,
   "metadata": {},
   "outputs": [],
   "source": [
    "def predict(proba, threshould, fpr, tpr):\n",
    "    \n",
    "    t = threshould[np.argmax(tpr*(1-fpr))]\n",
    "    \n",
    "    # (tpr*(1-fpr)) will be maximum if your fpr is very low and tpr is very high\n",
    "    \n",
    "    print(\"the maximum value of tpr*(1-fpr)\", max(tpr*(1-fpr)), \"for threshold\", np.round(t,3))\n",
    "    predictions = []\n",
    "    for i in proba:\n",
    "        if i>=t:\n",
    "            predictions.append(1)\n",
    "        else:\n",
    "            predictions.append(0)\n",
    "    return predictions"
   ]
  },
  {
   "cell_type": "code",
   "execution_count": 25,
   "metadata": {},
   "outputs": [],
   "source": [
    "from sklearn.metrics import roc_curve\n",
    "train_fpr1, train_tpr1, tr_thresholds1 = roc_curve(target, oof)"
   ]
  },
  {
   "cell_type": "code",
   "execution_count": 27,
   "metadata": {},
   "outputs": [
    {
     "name": "stdout",
     "output_type": "stream",
     "text": [
      "the maximum value of tpr*(1-fpr) 0.6597140587368959 for threshold 0.104\n"
     ]
    },
    {
     "data": {
      "image/png": "[encoded data removed]",
      "text/plain": [
       "<Figure size 432x288 with 2 Axes>"
      ]
     },
     "metadata": {
      "needs_background": "light"
     },
     "output_type": "display_data"
    }
   ],
   "source": [
    "from sklearn.metrics import confusion_matrix\n",
    "from seaborn import heatmap\n",
    "import matplotlib.pyplot as plt\n",
    "heatmap(confusion_matrix(target, predict(oof, tr_thresholds1, train_fpr1, train_tpr1)),annot=True, fmt=\"d\",xticklabels=[\"Pred:NO\",\"Pred:YES\"],yticklabels=[\"Actual:NO\",\"Actual:YES\"])\n",
    "plt.title(\"Confusion matrix for Train data\")\n",
    "plt.show()"
   ]
  },
  {
   "cell_type": "code",
   "execution_count": null,
   "metadata": {},
   "outputs": [],
   "source": []
  }
 ],
 "metadata": {
  "kernelspec": {
   "display_name": "Python 3",
   "language": "python",
   "name": "python3"
  },
  "language_info": {
   "codemirror_mode": {
    "name": "ipython",
    "version": 3
   },
   "file_extension": ".py",
   "mimetype": "text/x-python",
   "name": "python",
   "nbconvert_exporter": "python",
   "pygments_lexer": "ipython3",
   "version": "3.7.3"
  }
 },
 "nbformat": 4,
 "nbformat_minor": 2
}
